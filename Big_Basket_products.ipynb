{
 "cells": [
  {
   "cell_type": "code",
   "execution_count": 1,
   "id": "dd7ef676-f45a-4a08-a7cf-096edd66feac",
   "metadata": {},
   "outputs": [],
   "source": [
    "import pandas as pd\n",
    "import matplotlib.pyplot as plt\n",
    "import seaborn as sns\n",
    "import numpy as np"
   ]
  },
  {
   "cell_type": "code",
   "execution_count": 3,
   "id": "65359043-6b2a-4121-96cc-c35de9b58a00",
   "metadata": {},
   "outputs": [
    {
     "name": "stdout",
     "output_type": "stream",
     "text": [
      "   index                                            product  \\\n",
      "0      1             Garlic Oil - Vegetarian Capsule 500 mg   \n",
      "1      2                              Water Bottle - Orange   \n",
      "2      3                     Brass Angle Deep - Plain, No.2   \n",
      "3      4  Cereal Flip Lid Container/Storage Jar - Assort...   \n",
      "4      5                 Creme Soft Soap - For Hands & Body   \n",
      "\n",
      "                 category           sub_category              brand  \\\n",
      "0        Beauty & Hygiene              Hair Care  Sri Sri Ayurveda    \n",
      "1  Kitchen, Garden & Pets  Storage & Accessories         Mastercook   \n",
      "2    Cleaning & Household            Pooja Needs                Trm   \n",
      "3    Cleaning & Household   Bins & Bathroom Ware             Nakoda   \n",
      "4        Beauty & Hygiene       Bath & Hand Wash              Nivea   \n",
      "\n",
      "   sale_price  market_price                      type  rating  \\\n",
      "0       220.0         220.0          Hair Oil & Serum     4.1   \n",
      "1       180.0         180.0    Water & Fridge Bottles     2.3   \n",
      "2       119.0         250.0           Lamp & Lamp Oil     3.4   \n",
      "3       149.0         176.0  Laundry, Storage Baskets     3.7   \n",
      "4       162.0         162.0      Bathing Bars & Soaps     4.4   \n",
      "\n",
      "                                         description  \n",
      "0  This Product contains Garlic Oil that is known...  \n",
      "1  Each product is microwave safe (without lid), ...  \n",
      "2  A perfect gift for all occasions, be it your m...  \n",
      "3  Multipurpose container with an attractive desi...  \n",
      "4  Nivea Creme Soft Soap gives your skin the best...  \n",
      "             index     sale_price  market_price        rating\n",
      "count  27555.00000   27549.000000  27555.000000  18919.000000\n",
      "mean   13778.00000     334.648391    382.056664      3.943295\n",
      "std     7954.58767    1202.102113    581.730717      0.739217\n",
      "min        1.00000       2.450000      3.000000      1.000000\n",
      "25%     6889.50000      95.000000    100.000000      3.700000\n",
      "50%    13778.00000     190.320000    220.000000      4.100000\n",
      "75%    20666.50000     359.000000    425.000000      4.300000\n",
      "max    27555.00000  112475.000000  12500.000000      5.000000\n",
      "<class 'pandas.core.frame.DataFrame'>\n",
      "RangeIndex: 27555 entries, 0 to 27554\n",
      "Data columns (total 10 columns):\n",
      " #   Column        Non-Null Count  Dtype  \n",
      "---  ------        --------------  -----  \n",
      " 0   index         27555 non-null  int64  \n",
      " 1   product       27554 non-null  object \n",
      " 2   category      27555 non-null  object \n",
      " 3   sub_category  27555 non-null  object \n",
      " 4   brand         27554 non-null  object \n",
      " 5   sale_price    27549 non-null  float64\n",
      " 6   market_price  27555 non-null  float64\n",
      " 7   type          27555 non-null  object \n",
      " 8   rating        18919 non-null  float64\n",
      " 9   description   27440 non-null  object \n",
      "dtypes: float64(3), int64(1), object(6)\n",
      "memory usage: 2.1+ MB\n",
      "None\n"
     ]
    }
   ],
   "source": [
    "data = pd.read_csv('BigBasket Products.csv')\n",
    "print(data.head())\n",
    "print(data.describe())\n",
    "print(data.info())"
   ]
  },
  {
   "cell_type": "code",
   "execution_count": 5,
   "id": "0d1d1552-2210-4f93-bed6-83649d2ee7d8",
   "metadata": {},
   "outputs": [
    {
     "data": {
      "text/plain": [
       "index              0\n",
       "product            1\n",
       "category           0\n",
       "sub_category       0\n",
       "brand              1\n",
       "sale_price         6\n",
       "market_price       0\n",
       "type               0\n",
       "rating          8636\n",
       "description      115\n",
       "dtype: int64"
      ]
     },
     "execution_count": 5,
     "metadata": {},
     "output_type": "execute_result"
    }
   ],
   "source": [
    "data.isnull().sum()"
   ]
  },
  {
   "cell_type": "code",
   "execution_count": 7,
   "id": "c30ce5c4-6a89-47f7-9186-87fbb0bf3a3f",
   "metadata": {},
   "outputs": [
    {
     "name": "stderr",
     "output_type": "stream",
     "text": [
      "C:\\Users\\saransh\\AppData\\Local\\Temp\\ipykernel_12192\\3673293514.py:1: FutureWarning: A value is trying to be set on a copy of a DataFrame or Series through chained assignment using an inplace method.\n",
      "The behavior will change in pandas 3.0. This inplace method will never work because the intermediate object on which we are setting values always behaves as a copy.\n",
      "\n",
      "For example, when doing 'df[col].method(value, inplace=True)', try using 'df.method({col: value}, inplace=True)' or df[col] = df[col].method(value) instead, to perform the operation inplace on the original object.\n",
      "\n",
      "\n",
      "  data['product'].fillna(\"Unknown Product\", inplace=True)\n",
      "C:\\Users\\saransh\\AppData\\Local\\Temp\\ipykernel_12192\\3673293514.py:2: FutureWarning: A value is trying to be set on a copy of a DataFrame or Series through chained assignment using an inplace method.\n",
      "The behavior will change in pandas 3.0. This inplace method will never work because the intermediate object on which we are setting values always behaves as a copy.\n",
      "\n",
      "For example, when doing 'df[col].method(value, inplace=True)', try using 'df.method({col: value}, inplace=True)' or df[col] = df[col].method(value) instead, to perform the operation inplace on the original object.\n",
      "\n",
      "\n",
      "  data['brand'].fillna(\"Unknown Brand\", inplace=True)\n",
      "C:\\Users\\saransh\\AppData\\Local\\Temp\\ipykernel_12192\\3673293514.py:3: FutureWarning: A value is trying to be set on a copy of a DataFrame or Series through chained assignment using an inplace method.\n",
      "The behavior will change in pandas 3.0. This inplace method will never work because the intermediate object on which we are setting values always behaves as a copy.\n",
      "\n",
      "For example, when doing 'df[col].method(value, inplace=True)', try using 'df.method({col: value}, inplace=True)' or df[col] = df[col].method(value) instead, to perform the operation inplace on the original object.\n",
      "\n",
      "\n",
      "  data['sale_price'].fillna(data['sale_price'].median(), inplace=True)\n",
      "C:\\Users\\saransh\\AppData\\Local\\Temp\\ipykernel_12192\\3673293514.py:4: FutureWarning: A value is trying to be set on a copy of a DataFrame or Series through chained assignment using an inplace method.\n",
      "The behavior will change in pandas 3.0. This inplace method will never work because the intermediate object on which we are setting values always behaves as a copy.\n",
      "\n",
      "For example, when doing 'df[col].method(value, inplace=True)', try using 'df.method({col: value}, inplace=True)' or df[col] = df[col].method(value) instead, to perform the operation inplace on the original object.\n",
      "\n",
      "\n",
      "  data['rating'].fillna(data['rating'].median(), inplace=True)\n",
      "C:\\Users\\saransh\\AppData\\Local\\Temp\\ipykernel_12192\\3673293514.py:5: FutureWarning: A value is trying to be set on a copy of a DataFrame or Series through chained assignment using an inplace method.\n",
      "The behavior will change in pandas 3.0. This inplace method will never work because the intermediate object on which we are setting values always behaves as a copy.\n",
      "\n",
      "For example, when doing 'df[col].method(value, inplace=True)', try using 'df.method({col: value}, inplace=True)' or df[col] = df[col].method(value) instead, to perform the operation inplace on the original object.\n",
      "\n",
      "\n",
      "  data['description'].fillna(\"No Description Available\", inplace=True)\n"
     ]
    }
   ],
   "source": [
    "data['product'].fillna(\"Unknown Product\", inplace=True)\n",
    "data['brand'].fillna(\"Unknown Brand\", inplace=True)\n",
    "data['sale_price'].fillna(data['sale_price'].median(), inplace=True)\n",
    "data['rating'].fillna(data['rating'].median(), inplace=True)\n",
    "data['description'].fillna(\"No Description Available\", inplace=True)"
   ]
  },
  {
   "cell_type": "code",
   "execution_count": 9,
   "id": "fc9a0787-1c3d-4095-a2e8-2fb89a98657c",
   "metadata": {},
   "outputs": [
    {
     "data": {
      "text/plain": [
       "index           0\n",
       "product         0\n",
       "category        0\n",
       "sub_category    0\n",
       "brand           0\n",
       "sale_price      0\n",
       "market_price    0\n",
       "type            0\n",
       "rating          0\n",
       "description     0\n",
       "dtype: int64"
      ]
     },
     "execution_count": 9,
     "metadata": {},
     "output_type": "execute_result"
    }
   ],
   "source": [
    "data.isnull().sum()"
   ]
  },
  {
   "cell_type": "code",
   "execution_count": 11,
   "id": "536de1fd-3986-4f16-b878-1bcaf6a4add1",
   "metadata": {},
   "outputs": [],
   "source": [
    "top_sales = data.groupby('product')['sale_price'].sum().sort_values(ascending=False).head(5)\n",
    "least_sales = data.groupby('product')['sale_price'].sum().sort_values().head(5)"
   ]
  },
  {
   "cell_type": "code",
   "execution_count": 13,
   "id": "84f0f8e4-39e2-4ebe-8e7c-b5b91a40a94c",
   "metadata": {},
   "outputs": [
    {
     "name": "stdout",
     "output_type": "stream",
     "text": [
      "                                             product  sale_price  \\\n",
      "0             Garlic Oil - Vegetarian Capsule 500 mg       220.0   \n",
      "1                              Water Bottle - Orange       180.0   \n",
      "2                     Brass Angle Deep - Plain, No.2       119.0   \n",
      "3  Cereal Flip Lid Container/Storage Jar - Assort...       149.0   \n",
      "4                 Creme Soft Soap - For Hands & Body       162.0   \n",
      "\n",
      "   market_price  discount_percentage  \n",
      "0         220.0             0.000000  \n",
      "1         180.0             0.000000  \n",
      "2         250.0            52.400000  \n",
      "3         176.0            15.340909  \n",
      "4         162.0             0.000000  \n"
     ]
    }
   ],
   "source": [
    "data['discount_percentage'] = ((data['market_price'] - data['sale_price']) / data['market_price']) * 100\n",
    "print(data[['product', 'sale_price', 'market_price', 'discount_percentage']].head())"
   ]
  },
  {
   "cell_type": "code",
   "execution_count": null,
   "id": "a5c8707a-e51a-496c-946f-341519376295",
   "metadata": {},
   "outputs": [],
   "source": []
  }
 ],
 "metadata": {
  "kernelspec": {
   "display_name": "Python 3 (ipykernel)",
   "language": "python",
   "name": "python3"
  },
  "language_info": {
   "codemirror_mode": {
    "name": "ipython",
    "version": 3
   },
   "file_extension": ".py",
   "mimetype": "text/x-python",
   "name": "python",
   "nbconvert_exporter": "python",
   "pygments_lexer": "ipython3",
   "version": "3.12.4"
  }
 },
 "nbformat": 4,
 "nbformat_minor": 5
}
